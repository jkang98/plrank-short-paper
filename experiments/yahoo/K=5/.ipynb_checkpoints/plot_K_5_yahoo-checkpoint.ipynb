{
 "cells": [
  {
   "cell_type": "code",
   "execution_count": 1,
   "id": "820a3dd4-2595-4b89-99dd-1f3d6d73fd24",
   "metadata": {
    "tags": []
   },
   "outputs": [],
   "source": [
    "import ast\n",
    "import re\n",
    "\n",
    "import matplotlib.pyplot as plt"
   ]
  },
  {
   "cell_type": "code",
   "execution_count": null,
   "id": "7021337f-23e9-4926-8f62-7e40231f91e8",
   "metadata": {},
   "outputs": [],
   "source": [
    "NN_files = [\n",
    "    \"cutoff_5/plrank3_NN-784160.out\",\n",
    "    \"cutoff_5/plrank3_NN-784161.out\",\n",
    "    \"cutoff_5/plrank3_NN-784162.out\",\n",
    "    \"cutoff_5/plrank3_NN-784163.out\",\n",
    "    \"cutoff_5/plrank3_NN-784164.out\",\n",
    "]\n",
    "NN_results = []\n",
    "for file in NN_files:\n",
    "    result_list = []\n",
    "    with open(file, \"r\") as f:\n",
    "        for line in f:\n",
    "            try:\n",
    "                line_data = ast.literal_eval(line.strip())\n",
    "                result_list.append(line_data)\n",
    "            except (ValueError, SyntaxError):\n",
    "                # If evaluation fails, treat it as a regular string\n",
    "                result_list.append(line.strip())\n",
    "    NN_results.append(result_list[1])"
   ]
  }
 ],
 "metadata": {
  "kernelspec": {
   "display_name": "Python 3 (ipykernel)",
   "language": "python",
   "name": "python3"
  },
  "language_info": {
   "codemirror_mode": {
    "name": "ipython",
    "version": 3
   },
   "file_extension": ".py",
   "mimetype": "text/x-python",
   "name": "python",
   "nbconvert_exporter": "python",
   "pygments_lexer": "ipython3",
   "version": "3.9.12"
  }
 },
 "nbformat": 4,
 "nbformat_minor": 5
}
