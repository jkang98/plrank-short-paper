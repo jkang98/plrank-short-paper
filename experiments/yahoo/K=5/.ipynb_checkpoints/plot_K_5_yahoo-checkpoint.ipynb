{
 "cells": [
  {
   "cell_type": "code",
   "execution_count": 1,
   "id": "65e84422-7c1f-48da-9283-f49b07ddabf8",
   "metadata": {
    "tags": []
   },
   "outputs": [],
   "source": [
    "import ast\n",
    "import glob\n",
    "import json\n",
    "import re\n",
    "from collections import OrderedDict\n",
    "\n",
    "import matplotlib.pyplot as plt\n",
    "import numpy as np"
   ]
  },
  {
   "cell_type": "code",
   "execution_count": 2,
   "id": "4a76fb70-cf03-467d-981f-2965e55fab46",
   "metadata": {
    "tags": []
   },
   "outputs": [],
   "source": [
    "NN_4000_files = glob.glob(\"experiment_nn_5_yahoo_4000epochs-*.out\")\n",
    "\n",
    "NN_4000_NDCGs = []\n",
    "NN_4000_runtimes = []\n",
    "for file in NN_4000_files:\n",
    "    with open(file, \"r\") as f:\n",
    "        line = f.readlines()\n",
    "    ndcg_value = []\n",
    "    time = []\n",
    "    for dic in eval(line[0]):\n",
    "        ndcg_value.append(dic[\"test result\"][\"dataset normalized maximum likelihood\"])\n",
    "        time.append(dic[\"total time\"])\n",
    "    NN_4000_runtimes.append(time)\n",
    "    NN_4000_NDCGs.append(ndcg_value)"
   ]
  },
  {
   "cell_type": "code",
   "execution_count": 3,
   "id": "817eda58-4221-4a0a-ad65-c955ccecebeb",
   "metadata": {
    "tags": []
   },
   "outputs": [],
   "source": [
    "NN_files = glob.glob(\"experiment_nn_yahoo_5-*.out\")\n",
    "\n",
    "NN_NDCGs = []\n",
    "NN_runtimes = []\n",
    "for file in NN_files:\n",
    "    with open(file, \"r\") as f:\n",
    "        line = f.readlines()\n",
    "    ndcg_value = []\n",
    "    time = []\n",
    "    for dic in eval(line[0]):\n",
    "        ndcg_value.append(dic[\"test result\"][\"dataset normalized maximum likelihood\"])\n",
    "        time.append(dic[\"total time\"])\n",
    "    NN_runtimes.append(time)\n",
    "    NN_NDCGs.append(ndcg_value)"
   ]
  },
  {
   "cell_type": "raw",
   "id": "d59ccd12-1f06-4f04-8ec7-af1fb339d7a6",
   "metadata": {
    "tags": []
   },
   "source": [
    "XGBoost_files = glob.glob(\"useless results/experiment_xgboost_yahoo_5-*.out\")\n",
    "\n",
    "XGBoost_NDCGs = []\n",
    "XGBoost_runtimes = []\n",
    "for file in XGBoost_files:\n",
    "    with open(file, \"r\") as f:\n",
    "        lines = f.readlines()\n",
    "    time = []\n",
    "    for i in eval(lines[1]):\n",
    "        time.append(i[\"time\"])\n",
    "    XGBoost_runtimes.append(time)\n",
    "    XGBoost_NDCGs.append(eval(lines[0])[\"test\"][\"NDCG@5\"])"
   ]
  },
  {
   "cell_type": "code",
   "execution_count": 5,
   "id": "cc06c4aa-28c2-4fa2-95f6-3d9985a8e56a",
   "metadata": {
    "tags": []
   },
   "outputs": [],
   "source": [
    "XGBoost_shared_files = glob.glob(\n",
    "    \"useless results/experiment_xgboost_shared_yahoo_5-*.out\"\n",
    ")\n",
    "\n",
    "XGBoost_shared_NDCGs = []\n",
    "XGBoost_shared_runtimes = []\n",
    "for file in XGBoost_shared_files:\n",
    "    with open(file, \"r\") as f:\n",
    "        lines = f.readlines()\n",
    "    time = []\n",
    "    for i in eval(lines[1]):\n",
    "        time.append(i[\"time\"])\n",
    "    XGBoost_shared_runtimes.append(time)\n",
    "    XGBoost_shared_NDCGs.append(eval(lines[0])[\"test\"][\"NDCG@5\"])"
   ]
  },
  {
   "cell_type": "code",
   "execution_count": 6,
   "id": "6541200a-aa85-49da-9d84-fbb424bb759d",
   "metadata": {
    "tags": []
   },
   "outputs": [],
   "source": [
    "Without_Hessian_files = glob.glob(\"experiment_without_hessian_yahoo_5-*.out\")\n",
    "\n",
    "Without_Hessian_NDCGs = []\n",
    "Without_Hessian_runtimes = []\n",
    "for file in Without_Hessian_files:\n",
    "    with open(file, \"r\") as f:\n",
    "        lines = f.readlines()\n",
    "    time = []\n",
    "    for i in eval(lines[1]):\n",
    "        time.append(i[\"time\"])\n",
    "    Without_Hessian_runtimes.append(time)\n",
    "    Without_Hessian_NDCGs.append(eval(lines[0])[\"test\"][\"NDCG@5\"])"
   ]
  },
  {
   "cell_type": "code",
   "execution_count": 7,
   "id": "faafd975-64aa-4573-a43b-52749932ba81",
   "metadata": {
    "tags": []
   },
   "outputs": [],
   "source": [
    "lambdamart_files = glob.glob(\"experiment_lambdamart_5_yahoo-*.out\")\n",
    "\n",
    "lambdamart_NDCGs = []\n",
    "lambdamart_runtimes = []\n",
    "for file in lambdamart_files:\n",
    "    with open(file, \"r\") as f:\n",
    "        lines = f.readlines()\n",
    "    time = []\n",
    "    for i in eval(lines[1]):\n",
    "        time.append(i[\"time\"])\n",
    "    lambdamart_runtimes.append(time)\n",
    "    lambdamart_NDCGs.append(eval(lines[0])[\"test\"][\"NDCG@5\"])"
   ]
  },
  {
   "cell_type": "code",
   "execution_count": 8,
   "id": "76aac14f-8b35-42cc-ae66-2a67cd2d613e",
   "metadata": {
    "tags": []
   },
   "outputs": [],
   "source": [
    "XGBoost_shared_new_files = glob.glob(\"experiment_xgboost_5_yahoo_4000epochs-*.out\")\n",
    "\n",
    "XGBoost_shared_new_NDCGs = []\n",
    "XGBoost_shared_new_runtimes = []\n",
    "for file in XGBoost_shared_new_files:\n",
    "    with open(file, \"r\") as f:\n",
    "        lines = f.readlines()\n",
    "    time = []\n",
    "    for i in eval(lines[1]):\n",
    "        time.append(i[\"time\"])\n",
    "    XGBoost_shared_new_runtimes.append(time)\n",
    "    XGBoost_shared_new_NDCGs.append(eval(lines[0])[\"test\"][\"NDCG@5\"])"
   ]
  },
  {
   "cell_type": "code",
   "execution_count": 9,
   "id": "6329245f-e391-494e-b16b-bf5d7bc3a92e",
   "metadata": {
    "tags": []
   },
   "outputs": [],
   "source": [
    "# Created by Harrie Oosterhuis,\n",
    "# if you use this for your publication and I'm not a co-author,\n",
    "# please thank me in the acknowledgements.\n",
    "\n",
    "import matplotlib.lines as mlines\n",
    "import pylab as plt\n",
    "\n",
    "# latex font in matplotlib\n",
    "plt.rc(\"font\", size=20)\n",
    "#plt.rc(\"text\", usetex=True)\n",
    "#plt.rc(\"text.latex\", preamble=r\"\\usepackage{amsmath,amssymb,bm,bbm,lmodern}\")\n",
    "\n",
    "# parameters for plotting\n",
    "name_mapping = {\n",
    "    \"method_1\": \"Neural Networks\",\n",
    "    \"method_2\": \"XGBoost with the Hessian\",\n",
    "    \"method_3\": \"XGBoost without the Hessian\",\n",
    "}\n",
    "colours = {\n",
    "    \"method_1\": \"violet\",\n",
    "    \"method_2\": \"red\",\n",
    "    \"method_3\": \"orange\",\n",
    "}\n",
    "markers = {\n",
    "    \"method_1\": \"^\",\n",
    "    \"method_2\": \"o\",\n",
    "    \"method_3\": \"v\",\n",
    "}\n",
    "styles = {\n",
    "    \"method_1\": \"-\",\n",
    "    \"method_2\": \"-\",\n",
    "    \"method_3\": \"-\",\n",
    "}\n",
    "\n",
    "legend_info = []\n",
    "fig = plt.figure(figsize=(6.1, 4.1), linewidth=0.5)\n",
    "plt.ioff()\n",
    "# plt.ylabel(\"Y-Axis Label\")\n",
    "# plt.xlabel(\"X-Axis Label\")\n",
    "# plt.xscale('log')\n",
    "# plt.yscale('log')\n",
    "plt.gca().yaxis.set_ticks_position(\"both\")\n",
    "plt.xlim(0, 1000)\n",
    "#plt.xticks([0,100,200,300,400,500,600,700,800,900,1000])\n",
    "plt.ylim(0.713, 0.763)\n",
    "# plt.yticks([0,0.25,0.5,0.75,1])\n",
    "\n",
    "data = {\n",
    "    \"method_1\": (np.arange(0, 1001), np.mean(np.array(NN_NDCGs), axis=0)),\n",
    "    \"method_2\": (np.arange(1, 1001), np.mean(np.array(XGBoost_shared_NDCGs), axis=0)),\n",
    "    \"method_3\": (np.arange(1, 1001), np.mean(np.array(Without_Hessian_NDCGs), axis=0)),\n",
    "}\n",
    "\n",
    "for k in [\"method_1\", \"method_2\", \"method_3\"]:\n",
    "    x, y = data[k]\n",
    "    legend_info.append(\n",
    "        {\n",
    "            \"linestyle\": styles[k],\n",
    "            \"color\": colours[k],\n",
    "            \"marker\": markers[k],\n",
    "            \"markersize\": 12,\n",
    "            \"markevery\": 200,  # this should be higher if you have more data\n",
    "            \"fillstyle\": \"none\",\n",
    "            \"label\": name_mapping[k],\n",
    "            \"linewidth\": 2.0,\n",
    "        }\n",
    "    )\n",
    "\n",
    "    # for confidence bounds\n",
    "    # plt.fill_between(x, y_min, y_max)\n",
    "    #                 alpha=0.2,\n",
    "    #                 color=legend_info[-1]['color'])\n",
    "    plt.plot(x, y, **legend_info[-1])\n",
    "\n",
    "# plt.title('Nice Title')\n",
    "# in case you do want the legend in the figure\n",
    "# plt.legend(ncol=2)\n",
    "\n",
    "plt.savefig(\"yahoo_5.pdf\", bbox_inches=\"tight\", pad_inches=0)\n",
    "plt.close()\n",
    "\n",
    "# in case you want to change the order in the legend but not in the plot\n",
    "# legend_info = [legend_info[i] for i in [2,0,1]]\n",
    "\n",
    "figlegend = plt.figure(figsize=(0.5, 0.5))\n",
    "\n",
    "ncol = 3\n",
    "figlegend.legend(\n",
    "    handles=[mlines.Line2D([], [], **l) for l in legend_info],\n",
    "    fontsize=18,\n",
    "    loc=\"center\",\n",
    "    ncol=ncol,\n",
    "    frameon=False,\n",
    "    borderaxespad=0,\n",
    "    borderpad=0,\n",
    "    labelspacing=0.2,\n",
    "    columnspacing=1.0,\n",
    ")\n",
    "figlegend.savefig(\n",
    "    \"legend.pdf\", bbox_inches=\"tight\"\n",
    ")  # , pad_inches=0)\n",
    "plt.close()\n",
    "\n",
    "\n"
   ]
  },
  {
   "cell_type": "code",
   "execution_count": null,
   "id": "57d15e2d-0808-4d7f-b0dd-eef605af9ace",
   "metadata": {},
   "outputs": [],
   "source": []
  },
  {
   "cell_type": "code",
   "execution_count": 11,
   "id": "2a1c36d9-333e-44c6-806a-3e2bf58922f3",
   "metadata": {
    "tags": []
   },
   "outputs": [
    {
     "data": {
      "image/png": "[encoded data removed]",
      "text/plain": [
       "<Figure size 1440x864 with 1 Axes>"
      ]
     },
     "metadata": {
      "needs_background": "light"
     },
     "output_type": "display_data"
    }
   ],
   "source": [
    "plt.figure(figsize=(20, 12))\n",
    "# plt.plot(\n",
    "#     np.arange(0, 1001), np.mean(np.array(NN_NDCGs), axis=0), label=\"NN\",\n",
    "# )\n",
    "plt.plot(\n",
    "    np.arange(0, 4001), np.mean(np.array(NN_4000_NDCGs), axis=0), label=\"NN_4000\",\n",
    ")\n",
    "# plt.plot(\n",
    "#     np.arange(1, 1001), np.mean(np.array(XGBoost_NDCGs), axis=0), label=\"XGBoost (with hypers which got 0.727339 on valid set)\",\n",
    "# )\n",
    "plt.plot(\n",
    "    np.arange(1, 1001),\n",
    "    np.mean(np.array(XGBoost_shared_NDCGs), axis=0),\n",
    "    label=\"XGBoost_shared (with hypers which got 0.727339 on valid set)\",\n",
    ")\n",
    "plt.plot(\n",
    "    np.arange(1, 4001),\n",
    "    np.mean(np.array(XGBoost_shared_new_NDCGs), axis=0),\n",
    "    label=\"XGBoost_shared_4000\",\n",
    ")\n",
    "plt.axhline(\n",
    "    np.max(np.array(lambdamart_NDCGs), axis=1)[0],\n",
    "    label=\"LambdaMART\",\n",
    "    linestyle=\"dashed\",\n",
    ")\n",
    "# plt.plot(\n",
    "#     np.arange(1, 1001),\n",
    "#     np.mean(np.array(Without_Hessian_NDCGs), axis=0),\n",
    "#     label=\"Without_Hessian\",\n",
    "# )\n",
    "plt.ylim(0.59, 0.79)\n",
    "plt.xlim(0, 4000)\n",
    "plt.legend()\n",
    "plt.xlabel(\"epochs\")\n",
    "plt.show()"
   ]
  },
  {
   "cell_type": "code",
   "execution_count": 10,
   "id": "8ab519ca-32a9-4064-9b0c-e35ac7c7f49c",
   "metadata": {},
   "outputs": [
    {
     "name": "stdout",
     "output_type": "stream",
     "text": [
      "[3999 3965 3998 3841 3821]\n",
      "[0.770638 0.772212 0.770688 0.771303 0.771759]\n"
     ]
    }
   ],
   "source": [
    "print(np.argmax(np.array(XGBoost_shared_new_NDCGs),axis=1))\n",
    "print(np.max(np.array(XGBoost_shared_new_NDCGs),axis=1))"
   ]
  },
  {
   "cell_type": "code",
   "execution_count": 11,
   "id": "2e7e35d3-392c-4c00-9fa7-d4be80c1cc4f",
   "metadata": {
    "tags": []
   },
   "outputs": [
    {
     "name": "stdout",
     "output_type": "stream",
     "text": [
      "[188 161 159 142 136]\n",
      "[0.7574993  0.7567458  0.75616544 0.75644241 0.75739336]\n"
     ]
    }
   ],
   "source": [
    "print(np.argmax(np.array(NN_4000_NDCGs),axis=1))\n",
    "print(np.max(np.array(NN_4000_NDCGs),axis=1))"
   ]
  },
  {
   "cell_type": "code",
   "execution_count": 32,
   "id": "023939b8-9ee5-4558-ad04-f305fdfa4b85",
   "metadata": {
    "tags": []
   },
   "outputs": [
    {
     "data": {
      "text/plain": [
       "array([0.7575, 0.756 , 0.7566, 0.7558, 0.7572])"
      ]
     },
     "execution_count": 32,
     "metadata": {},
     "output_type": "execute_result"
    }
   ],
   "source": [
    "np.round(np.max(np.array(NN_NDCGs),axis=1),4)"
   ]
  },
  {
   "cell_type": "code",
   "execution_count": 33,
   "id": "e9898766-70d3-4b5d-92a4-681ebec7054e",
   "metadata": {
    "tags": []
   },
   "outputs": [
    {
     "data": {
      "text/plain": [
       "0.7566"
      ]
     },
     "execution_count": 33,
     "metadata": {},
     "output_type": "execute_result"
    }
   ],
   "source": [
    "np.round(np.mean(np.max(np.array(NN_NDCGs),axis=1)),4)"
   ]
  },
  {
   "cell_type": "code",
   "execution_count": 34,
   "id": "a606e052-e3a3-4c96-9992-6e3bc03b2098",
   "metadata": {
    "tags": []
   },
   "outputs": [
    {
     "data": {
      "text/plain": [
       "0.0006"
      ]
     },
     "execution_count": 34,
     "metadata": {},
     "output_type": "execute_result"
    }
   ],
   "source": [
    "np.round(np.std(np.max(np.array(NN_NDCGs),axis=1)),4)"
   ]
  },
  {
   "cell_type": "code",
   "execution_count": 35,
   "id": "810bb7d5-34bd-474e-818b-7b2bfde800d6",
   "metadata": {
    "tags": []
   },
   "outputs": [
    {
     "data": {
      "text/plain": [
       "array([0.7624, 0.7615, 0.7614, 0.7625, 0.7593])"
      ]
     },
     "execution_count": 35,
     "metadata": {},
     "output_type": "execute_result"
    }
   ],
   "source": [
    "np.round(np.max(np.array(XGBoost_shared_NDCGs),axis=1),4)"
   ]
  },
  {
   "cell_type": "code",
   "execution_count": 43,
   "id": "945bc58a-ff89-4fb2-9926-cd4d2f52fb58",
   "metadata": {
    "tags": []
   },
   "outputs": [
    {
     "data": {
      "text/plain": [
       "0.7614"
      ]
     },
     "execution_count": 43,
     "metadata": {},
     "output_type": "execute_result"
    }
   ],
   "source": [
    "np.round(np.mean(np.max(np.array(XGBoost_shared_NDCGs),axis=1)),4)"
   ]
  },
  {
   "cell_type": "code",
   "execution_count": 44,
   "id": "d30ae374-c6f1-46f8-ac98-5d69ee174f2f",
   "metadata": {
    "tags": []
   },
   "outputs": [
    {
     "data": {
      "text/plain": [
       "0.0012"
      ]
     },
     "execution_count": 44,
     "metadata": {},
     "output_type": "execute_result"
    }
   ],
   "source": [
    "np.round(np.std(np.max(np.array(XGBoost_shared_NDCGs),axis=1)),4)"
   ]
  },
  {
   "cell_type": "code",
   "execution_count": 38,
   "id": "b013b8df-e6e7-46b9-b8f0-e664cf899583",
   "metadata": {
    "tags": []
   },
   "outputs": [
    {
     "data": {
      "text/plain": [
       "array([0.7233, 0.724 , 0.7232, 0.723 , 0.7229])"
      ]
     },
     "execution_count": 38,
     "metadata": {},
     "output_type": "execute_result"
    }
   ],
   "source": [
    "np.round(np.max(np.array(Without_Hessian_NDCGs),axis=1),4)"
   ]
  },
  {
   "cell_type": "code",
   "execution_count": 39,
   "id": "560e82cd-53b8-4a2c-99b5-9a5e08367075",
   "metadata": {
    "tags": []
   },
   "outputs": [
    {
     "data": {
      "text/plain": [
       "0.7233"
      ]
     },
     "execution_count": 39,
     "metadata": {},
     "output_type": "execute_result"
    }
   ],
   "source": [
    "np.round(np.mean(np.max(np.array(Without_Hessian_NDCGs),axis=1)),4)"
   ]
  },
  {
   "cell_type": "code",
   "execution_count": 40,
   "id": "e835531e-ed78-40c9-894b-7d668248dfee",
   "metadata": {
    "tags": []
   },
   "outputs": [
    {
     "data": {
      "text/plain": [
       "0.0004"
      ]
     },
     "execution_count": 40,
     "metadata": {},
     "output_type": "execute_result"
    }
   ],
   "source": [
    "np.round(np.std(np.max(np.array(Without_Hessian_NDCGs),axis=1)),4)"
   ]
  },
  {
   "cell_type": "code",
   "execution_count": null,
   "id": "c09d98ab-f175-4194-aeed-ab868fa576fa",
   "metadata": {},
   "outputs": [],
   "source": []
  },
  {
   "cell_type": "code",
   "execution_count": null,
   "id": "4eb84c75-b01b-459c-aa75-373df1bf7d89",
   "metadata": {},
   "outputs": [],
   "source": []
  },
  {
   "cell_type": "code",
   "execution_count": 22,
   "id": "8bfe76df-0c91-47f1-9733-593d235499ef",
   "metadata": {},
   "outputs": [],
   "source": [
    "# Created by Harrie Oosterhuis,\n",
    "# if you use this for your publication and I'm not a co-author,\n",
    "# please thank me in the acknowledgements.\n",
    "\n",
    "import matplotlib.lines as mlines\n",
    "import pylab as plt\n",
    "\n",
    "# latex font in matplotlib\n",
    "plt.rc(\"font\", size=20)\n",
    "#plt.rc(\"text\", usetex=True)\n",
    "#plt.rc(\"text.latex\", preamble=r\"\\usepackage{amsmath,amssymb,bm,bbm,lmodern}\")\n",
    "\n",
    "# parameters for plotting\n",
    "name_mapping = {\n",
    "    \"method_1\": \"Neural Networks\",\n",
    "    \"method_2\": \"XGBoost with the Hessian\",\n",
    "}\n",
    "colours = {\n",
    "    \"method_1\": \"violet\",\n",
    "    \"method_2\": \"red\",\n",
    "}\n",
    "markers = {\n",
    "    \"method_1\": \"^\",\n",
    "    \"method_2\": \"o\",\n",
    "}\n",
    "styles = {\n",
    "    \"method_1\": \"-\",\n",
    "    \"method_2\": \"-\",\n",
    "}\n",
    "\n",
    "legend_info = []\n",
    "fig = plt.figure(figsize=(9.1, 5.1), linewidth=0.5)\n",
    "plt.ioff()\n",
    "# plt.ylabel(\"Y-Axis Label\")\n",
    "# plt.xlabel(\"X-Axis Label\")\n",
    "# plt.xscale('log')\n",
    "# plt.yscale('log')\n",
    "plt.gca().yaxis.set_ticks_position(\"both\")\n",
    "plt.xlim(0, 4000)\n",
    "#plt.xticks([0,100,200,300,400,500,600,700,800,900,1000])\n",
    "plt.ylim(0.723, 0.773)\n",
    "# plt.yticks([0,0.25,0.5,0.75,1])\n",
    "\n",
    "data = {\n",
    "    \"method_1\": (np.arange(0, 4001), np.mean(np.array(NN_4000_NDCGs), axis=0)),\n",
    "    \"method_2\": (np.arange(1, 4001), np.mean(np.array(XGBoost_shared_new_NDCGs), axis=0)),\n",
    "}\n",
    "\n",
    "for k in [\"method_1\", \"method_2\"]:\n",
    "    x, y = data[k]\n",
    "    legend_info.append(\n",
    "        {\n",
    "            \"linestyle\": styles[k],\n",
    "            \"color\": colours[k],\n",
    "            \"marker\": markers[k],\n",
    "            \"markersize\": 12,\n",
    "            \"markevery\": 500,  # this should be higher if you have more data\n",
    "            \"fillstyle\": \"none\",\n",
    "            \"label\": name_mapping[k],\n",
    "            \"linewidth\": 2.0,\n",
    "        }\n",
    "    )\n",
    "\n",
    "    # for confidence bounds\n",
    "    # plt.fill_between(x, y_min, y_max)\n",
    "    #                 alpha=0.2,\n",
    "    #                 color=legend_info[-1]['color'])\n",
    "    plt.plot(x, y, **legend_info[-1])\n",
    "\n",
    "# plt.title('Nice Title')\n",
    "# in case you do want the legend in the figure\n",
    "# plt.legend(ncol=2)\n",
    "\n",
    "plt.savefig(\"yahoo_5_4000.pdf\", bbox_inches=\"tight\", pad_inches=0)\n",
    "plt.close()\n",
    "\n",
    "# in case you want to change the order in the legend but not in the plot\n",
    "# legend_info = [legend_info[i] for i in [2,0,1]]\n",
    "\n",
    "figlegend = plt.figure(figsize=(0.5, 0.5))\n",
    "\n",
    "ncol = 2\n",
    "figlegend.legend(\n",
    "    handles=[mlines.Line2D([], [], **l) for l in legend_info],\n",
    "    fontsize=18,\n",
    "    loc=\"center\",\n",
    "    ncol=ncol,\n",
    "    frameon=False,\n",
    "    borderaxespad=0,\n",
    "    borderpad=0,\n",
    "    labelspacing=0.2,\n",
    "    columnspacing=1.0,\n",
    ")\n",
    "figlegend.savefig(\n",
    "    \"legend_4000.pdf\", bbox_inches=\"tight\"\n",
    ")  # , pad_inches=0)\n",
    "plt.close()\n",
    "\n",
    "\n"
   ]
  },
  {
   "cell_type": "code",
   "execution_count": 23,
   "id": "9ca2cf76-cfe5-42f9-bf14-32e11c1399c1",
   "metadata": {
    "tags": []
   },
   "outputs": [
    {
     "data": {
      "text/plain": [
       "array([0.77955, 0.77955, 0.77955, 0.77955, 0.77955])"
      ]
     },
     "execution_count": 23,
     "metadata": {},
     "output_type": "execute_result"
    }
   ],
   "source": []
  },
  {
   "cell_type": "code",
   "execution_count": 45,
   "id": "49ef30b4-db21-4b36-8888-ae0808850b88",
   "metadata": {
    "tags": []
   },
   "outputs": [
    {
     "data": {
      "text/plain": [
       "array([0.7796, 0.7796, 0.7796, 0.7796, 0.7796])"
      ]
     },
     "execution_count": 45,
     "metadata": {},
     "output_type": "execute_result"
    }
   ],
   "source": [
    "np.round(np.max(np.array(lambdamart_NDCGs), axis=1),4)"
   ]
  },
  {
   "cell_type": "code",
   "execution_count": null,
   "id": "b33186f6-2b8b-4377-a412-772eeaf1b943",
   "metadata": {},
   "outputs": [],
   "source": []
  }
 ],
 "metadata": {
  "kernelspec": {
   "display_name": "Python 3 (ipykernel)",
   "language": "python",
   "name": "python3"
  },
  "language_info": {
   "codemirror_mode": {
    "name": "ipython",
    "version": 3
   },
   "file_extension": ".py",
   "mimetype": "text/x-python",
   "name": "python",
   "nbconvert_exporter": "python",
   "pygments_lexer": "ipython3",
   "version": "3.9.12"
  }
 },
 "nbformat": 4,
 "nbformat_minor": 5
}
